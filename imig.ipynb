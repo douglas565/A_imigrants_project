{
  "nbformat": 4,
  "nbformat_minor": 0,
  "metadata": {
    "colab": {
      "provenance": [],
      "mount_file_id": "1tszPpFeOrWDNDWw3WUC-M6HNacWT083a",
      "authorship_tag": "ABX9TyMAx3w/By6yNx8HmL3+vQI+",
      "include_colab_link": true
    },
    "kernelspec": {
      "name": "python3",
      "display_name": "Python 3"
    },
    "language_info": {
      "name": "python"
    }
  },
  "cells": [
    {
      "cell_type": "markdown",
      "metadata": {
        "id": "view-in-github",
        "colab_type": "text"
      },
      "source": [
        "<a href=\"https://colab.research.google.com/github/douglas565/A_imigrants_project/blob/main/imig.ipynb\" target=\"_parent\"><img src=\"https://colab.research.google.com/assets/colab-badge.svg\" alt=\"Open In Colab\"/></a>"
      ]
    },
    {
      "cell_type": "code",
      "execution_count": null,
      "metadata": {
        "id": "GhlwOYzLWnjT"
      },
      "outputs": [],
      "source": [
        "import pandas as pd\n",
        "\n",
        "\n",
        "df = pd.read_csv('/content/imigrantes_canada.csv')\n",
        "\n",
        "df.info()\n",
        "\n",
        "df.set_index('País', inplace=True)\n",
        "\n",
        "anos = list(map(str, range(1980, 2014)))\n",
        "\n",
        "brasil = df.loc['Brasil',anos]\n",
        "\n",
        "brasil_dict = {'ano' : brasil.index.tolist(), 'imigrantes' : brasil.values.tolist()}\n",
        "dados_brasil = pd.DataFrame(brasil_dict)\n",
        "\n",
        "dados_brasil\n",
        "\n"
      ]
    }
  ]
}